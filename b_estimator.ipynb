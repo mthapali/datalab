{
 "cells": [
  {
   "cell_type": "markdown",
   "metadata": {},
   "source": [
    "<h1> Machine Learning using tf.estimator </h1>\n",
    "\n",
    "In this notebook, we will create a machine learning model using tf.estimator and evaluate its performance.  The dataset is rather small (7700 samples), so we can do it all in-memory.  We will also simply pass the raw data in as-is. "
   ]
  },
  {
   "cell_type": "code",
   "execution_count": 1,
   "metadata": {},
   "outputs": [
    {
     "name": "stderr",
     "output_type": "stream",
     "text": [
      "/usr/local/envs/py3env/lib/python3.5/site-packages/h5py/__init__.py:36: FutureWarning: Conversion of the second argument of issubdtype from `float` to `np.floating` is deprecated. In future, it will be treated as `np.float64 == np.dtype(float).type`.\n",
      "  from ._conv import register_converters as _register_converters\n"
     ]
    },
    {
     "name": "stdout",
     "output_type": "stream",
     "text": [
      "1.8.0\n"
     ]
    }
   ],
   "source": [
    "import tensorflow as tf\n",
    "import pandas as pd\n",
    "import numpy as np\n",
    "import shutil\n",
    "\n",
    "print(tf.__version__)"
   ]
  },
  {
   "cell_type": "markdown",
   "metadata": {},
   "source": [
    "Read data created in the previous chapter."
   ]
  },
  {
   "cell_type": "code",
   "execution_count": 2,
   "metadata": {},
   "outputs": [],
   "source": [
    "# In CSV, label is the first column, after the features, followed by the key\n",
    "CSV_COLUMNS = ['fare_amount', 'pickuplon','pickuplat','dropofflon','dropofflat','passengers', 'key']\n",
    "FEATURES = CSV_COLUMNS[1:len(CSV_COLUMNS) - 1]\n",
    "LABEL = CSV_COLUMNS[0]\n",
    "\n",
    "df_train = pd.read_csv('./taxi-train.csv', header = None, names = CSV_COLUMNS)\n",
    "df_valid = pd.read_csv('./taxi-valid.csv', header = None, names = CSV_COLUMNS)"
   ]
  },
  {
   "cell_type": "markdown",
   "metadata": {},
   "source": [
    "<h2> Input function to read from Pandas Dataframe into tf.constant </h2>"
   ]
  },
  {
   "cell_type": "code",
   "execution_count": 3,
   "metadata": {},
   "outputs": [],
   "source": [
    "def make_input_fn(df, num_epochs):\n",
    "  return tf.estimator.inputs.pandas_input_fn(\n",
    "    x = df,\n",
    "    y = df[LABEL],\n",
    "    batch_size = 128,\n",
    "    num_epochs = num_epochs,\n",
    "    shuffle = True,\n",
    "    queue_capacity = 1000,\n",
    "    num_threads = 1\n",
    "  )"
   ]
  },
  {
   "cell_type": "markdown",
   "metadata": {},
   "source": [
    "### Create feature columns for estimator"
   ]
  },
  {
   "cell_type": "code",
   "execution_count": 4,
   "metadata": {},
   "outputs": [],
   "source": [
    "def make_feature_cols():\n",
    "  input_columns = [tf.feature_column.numeric_column(k) for k in FEATURES]\n",
    "  return input_columns"
   ]
  },
  {
   "cell_type": "markdown",
   "metadata": {},
   "source": [
    "<h3> Linear Regression with tf.Estimator framework </h3>"
   ]
  },
  {
   "cell_type": "code",
   "execution_count": 14,
   "metadata": {},
   "outputs": [
    {
     "name": "stdout",
     "output_type": "stream",
     "text": [
      "INFO:tensorflow:Using default config.\n",
      "INFO:tensorflow:Using config: {'_tf_random_seed': None, '_is_chief': True, '_service': None, '_num_worker_replicas': 1, '_global_id_in_cluster': 0, '_save_checkpoints_secs': 600, '_master': '', '_model_dir': 'taxi_trained', '_session_config': None, '_task_id': 0, '_task_type': 'worker', '_train_distribute': None, '_keep_checkpoint_max': 5, '_cluster_spec': <tensorflow.python.training.server_lib.ClusterSpec object at 0x7f6ee95ddcf8>, '_save_summary_steps': 100, '_keep_checkpoint_every_n_hours': 10000, '_log_step_count_steps': 100, '_save_checkpoints_steps': None, '_evaluation_master': '', '_num_ps_replicas': 0}\n",
      "INFO:tensorflow:Calling model_fn.\n",
      "INFO:tensorflow:Done calling model_fn.\n",
      "INFO:tensorflow:Create CheckpointSaverHook.\n",
      "INFO:tensorflow:Graph was finalized.\n",
      "INFO:tensorflow:Running local_init_op.\n",
      "INFO:tensorflow:Done running local_init_op.\n",
      "INFO:tensorflow:Saving checkpoints for 1 into taxi_trained/model.ckpt.\n",
      "INFO:tensorflow:loss = 30107.697, step = 1\n",
      "INFO:tensorflow:global_step/sec: 255.005\n",
      "INFO:tensorflow:loss = 9272.386, step = 101 (0.396 sec)\n",
      "INFO:tensorflow:global_step/sec: 283.863\n",
      "INFO:tensorflow:loss = 28082.02, step = 201 (0.356 sec)\n",
      "INFO:tensorflow:global_step/sec: 270.424\n",
      "INFO:tensorflow:loss = 8842.218, step = 301 (0.373 sec)\n",
      "INFO:tensorflow:global_step/sec: 242.187\n",
      "INFO:tensorflow:loss = 22130.576, step = 401 (0.410 sec)\n",
      "INFO:tensorflow:global_step/sec: 261.922\n",
      "INFO:tensorflow:loss = 7925.6465, step = 501 (0.379 sec)\n",
      "INFO:tensorflow:Saving checkpoints for 573 into taxi_trained/model.ckpt.\n",
      "INFO:tensorflow:Loss for final step: 13218.121.\n"
     ]
    },
    {
     "data": {
      "text/plain": [
       "<tensorflow.python.estimator.canned.linear.LinearRegressor at 0x7f6ee95dd5c0>"
      ]
     },
     "execution_count": 14,
     "metadata": {},
     "output_type": "execute_result"
    }
   ],
   "source": [
    "tf.logging.set_verbosity(tf.logging.INFO)\n",
    "\n",
    "OUTDIR = 'taxi_trained'\n",
    "shutil.rmtree(OUTDIR, ignore_errors = True) # start fresh each time\n",
    "\n",
    "model = tf.estimator.LinearRegressor(\n",
    "      feature_columns = make_feature_cols(), model_dir = OUTDIR)\n",
    "\n",
    "model.train(input_fn = make_input_fn(df_train, num_epochs = 10))"
   ]
  },
  {
   "cell_type": "markdown",
   "metadata": {},
   "source": [
    "Evaluate on the validation data (we should defer using the test data to after we have selected a final model)."
   ]
  },
  {
   "cell_type": "code",
   "execution_count": 15,
   "metadata": {},
   "outputs": [
    {
     "name": "stdout",
     "output_type": "stream",
     "text": [
      "INFO:tensorflow:Calling model_fn.\n",
      "INFO:tensorflow:Done calling model_fn.\n",
      "INFO:tensorflow:Starting evaluation at 2019-07-17-00:59:50\n",
      "INFO:tensorflow:Graph was finalized.\n",
      "INFO:tensorflow:Restoring parameters from taxi_trained/model.ckpt-573\n",
      "INFO:tensorflow:Running local_init_op.\n",
      "INFO:tensorflow:Done running local_init_op.\n",
      "INFO:tensorflow:Finished evaluation at 2019-07-17-00:59:50\n",
      "INFO:tensorflow:Saving dict for global step 573: average_loss = 94.62211, global_step = 573, loss = 11434.718\n",
      "RMSE on validation dataset = 9.727389335632324\n"
     ]
    }
   ],
   "source": [
    "def print_rmse(model, name, df):\n",
    "  metrics = model.evaluate(input_fn = make_input_fn(df, 1))\n",
    "  print('RMSE on {} dataset = {}'.format(name, np.sqrt(metrics['average_loss'])))\n",
    "print_rmse(model, 'validation', df_valid)"
   ]
  },
  {
   "cell_type": "markdown",
   "metadata": {},
   "source": [
    "This is nowhere near our benchmark (RMSE of $6 or so on this data), but it serves to demonstrate what TensorFlow code looks like.  Let's use this model for prediction."
   ]
  },
  {
   "cell_type": "code",
   "execution_count": 16,
   "metadata": {},
   "outputs": [
    {
     "name": "stdout",
     "output_type": "stream",
     "text": [
      "INFO:tensorflow:Using default config.\n",
      "INFO:tensorflow:Using config: {'_tf_random_seed': None, '_is_chief': True, '_service': None, '_num_worker_replicas': 1, '_global_id_in_cluster': 0, '_save_checkpoints_secs': 600, '_master': '', '_model_dir': 'taxi_trained', '_session_config': None, '_task_id': 0, '_task_type': 'worker', '_train_distribute': None, '_keep_checkpoint_max': 5, '_cluster_spec': <tensorflow.python.training.server_lib.ClusterSpec object at 0x7f6ee98d05c0>, '_save_summary_steps': 100, '_keep_checkpoint_every_n_hours': 10000, '_log_step_count_steps': 100, '_save_checkpoints_steps': None, '_evaluation_master': '', '_num_ps_replicas': 0}\n",
      "INFO:tensorflow:Calling model_fn.\n",
      "INFO:tensorflow:Done calling model_fn.\n",
      "INFO:tensorflow:Graph was finalized.\n",
      "INFO:tensorflow:Restoring parameters from taxi_trained/model.ckpt-573\n",
      "INFO:tensorflow:Running local_init_op.\n",
      "INFO:tensorflow:Done running local_init_op.\n",
      "[11.660841, 11.791132, 11.663052, 11.662544, 11.663074]\n"
     ]
    }
   ],
   "source": [
    "import itertools\n",
    "# Read saved model and use it for prediction\n",
    "model = tf.estimator.LinearRegressor(\n",
    "      feature_columns = make_feature_cols(), model_dir = OUTDIR)\n",
    "preds_iter = model.predict(input_fn = make_input_fn(df_valid, 1))\n",
    "print([pred['predictions'][0] for pred in list(itertools.islice(preds_iter, 5))])"
   ]
  },
  {
   "cell_type": "markdown",
   "metadata": {},
   "source": [
    "This explains why the RMSE was so high -- the model essentially predicts the same amount for every trip.  Would a more complex model help? Let's try using a deep neural network.  The code to do this is quite straightforward as well."
   ]
  },
  {
   "cell_type": "markdown",
   "metadata": {},
   "source": [
    "<h3> Deep Neural Network regression </h3>"
   ]
  },
  {
   "cell_type": "code",
   "execution_count": 17,
   "metadata": {},
   "outputs": [
    {
     "name": "stdout",
     "output_type": "stream",
     "text": [
      "INFO:tensorflow:Using default config.\n",
      "INFO:tensorflow:Using config: {'_tf_random_seed': None, '_is_chief': True, '_service': None, '_num_worker_replicas': 1, '_global_id_in_cluster': 0, '_save_checkpoints_secs': 600, '_master': '', '_model_dir': 'taxi_trained', '_session_config': None, '_task_id': 0, '_task_type': 'worker', '_train_distribute': None, '_keep_checkpoint_max': 5, '_cluster_spec': <tensorflow.python.training.server_lib.ClusterSpec object at 0x7f6ee82b6b00>, '_save_summary_steps': 100, '_keep_checkpoint_every_n_hours': 10000, '_log_step_count_steps': 100, '_save_checkpoints_steps': None, '_evaluation_master': '', '_num_ps_replicas': 0}\n",
      "INFO:tensorflow:Calling model_fn.\n",
      "INFO:tensorflow:Done calling model_fn.\n",
      "INFO:tensorflow:Create CheckpointSaverHook.\n",
      "INFO:tensorflow:Graph was finalized.\n",
      "INFO:tensorflow:Running local_init_op.\n",
      "INFO:tensorflow:Done running local_init_op.\n",
      "INFO:tensorflow:Saving checkpoints for 1 into taxi_trained/model.ckpt.\n",
      "INFO:tensorflow:loss = 221875.12, step = 1\n",
      "INFO:tensorflow:global_step/sec: 210.898\n",
      "INFO:tensorflow:loss = 32999.703, step = 101 (0.480 sec)\n",
      "INFO:tensorflow:global_step/sec: 218.58\n",
      "INFO:tensorflow:loss = 36207.848, step = 201 (0.457 sec)\n",
      "INFO:tensorflow:global_step/sec: 202.925\n",
      "INFO:tensorflow:loss = 19069.514, step = 301 (0.493 sec)\n",
      "INFO:tensorflow:global_step/sec: 199.471\n",
      "INFO:tensorflow:loss = 12626.479, step = 401 (0.502 sec)\n",
      "INFO:tensorflow:global_step/sec: 201.233\n",
      "INFO:tensorflow:loss = 25705.555, step = 501 (0.497 sec)\n",
      "INFO:tensorflow:global_step/sec: 203.513\n",
      "INFO:tensorflow:loss = 47765.21, step = 601 (0.491 sec)\n",
      "INFO:tensorflow:global_step/sec: 226.873\n",
      "INFO:tensorflow:loss = 17257.004, step = 701 (0.440 sec)\n",
      "INFO:tensorflow:global_step/sec: 211.886\n",
      "INFO:tensorflow:loss = 22253.7, step = 801 (0.473 sec)\n",
      "INFO:tensorflow:global_step/sec: 217.226\n",
      "INFO:tensorflow:loss = 26089.66, step = 901 (0.460 sec)\n",
      "INFO:tensorflow:global_step/sec: 217.885\n",
      "INFO:tensorflow:loss = 26043.564, step = 1001 (0.459 sec)\n",
      "INFO:tensorflow:global_step/sec: 223.908\n",
      "INFO:tensorflow:loss = 19340.691, step = 1101 (0.446 sec)\n",
      "INFO:tensorflow:global_step/sec: 229.888\n",
      "INFO:tensorflow:loss = 23596.781, step = 1201 (0.435 sec)\n",
      "INFO:tensorflow:global_step/sec: 265.067\n",
      "INFO:tensorflow:loss = 36762.18, step = 1301 (0.377 sec)\n",
      "INFO:tensorflow:global_step/sec: 233\n",
      "INFO:tensorflow:loss = 19477.31, step = 1401 (0.430 sec)\n",
      "INFO:tensorflow:global_step/sec: 255.089\n",
      "INFO:tensorflow:loss = 17337.074, step = 1501 (0.392 sec)\n",
      "INFO:tensorflow:global_step/sec: 241.519\n",
      "INFO:tensorflow:loss = 15532.036, step = 1601 (0.416 sec)\n",
      "INFO:tensorflow:global_step/sec: 229.076\n",
      "INFO:tensorflow:loss = 23530.938, step = 1701 (0.435 sec)\n",
      "INFO:tensorflow:global_step/sec: 227.151\n",
      "INFO:tensorflow:loss = 27531.6, step = 1801 (0.442 sec)\n",
      "INFO:tensorflow:global_step/sec: 210.153\n",
      "INFO:tensorflow:loss = 21618.436, step = 1901 (0.477 sec)\n",
      "INFO:tensorflow:global_step/sec: 215.281\n",
      "INFO:tensorflow:loss = 30313.463, step = 2001 (0.464 sec)\n",
      "INFO:tensorflow:global_step/sec: 242.532\n",
      "INFO:tensorflow:loss = 21457.82, step = 2101 (0.409 sec)\n",
      "INFO:tensorflow:global_step/sec: 236.225\n",
      "INFO:tensorflow:loss = 14201.599, step = 2201 (0.423 sec)\n",
      "INFO:tensorflow:global_step/sec: 220.003\n",
      "INFO:tensorflow:loss = 27100.385, step = 2301 (0.456 sec)\n",
      "INFO:tensorflow:global_step/sec: 196.616\n",
      "INFO:tensorflow:loss = 16076.138, step = 2401 (0.509 sec)\n",
      "INFO:tensorflow:global_step/sec: 200.121\n",
      "INFO:tensorflow:loss = 24801.355, step = 2501 (0.503 sec)\n",
      "INFO:tensorflow:global_step/sec: 202.117\n",
      "INFO:tensorflow:loss = 16457.328, step = 2601 (0.492 sec)\n",
      "INFO:tensorflow:global_step/sec: 208.564\n",
      "INFO:tensorflow:loss = 26569.205, step = 2701 (0.479 sec)\n",
      "INFO:tensorflow:global_step/sec: 212.259\n",
      "INFO:tensorflow:loss = 13315.142, step = 2801 (0.471 sec)\n",
      "INFO:tensorflow:global_step/sec: 219.662\n",
      "INFO:tensorflow:loss = 23799.176, step = 2901 (0.458 sec)\n",
      "INFO:tensorflow:global_step/sec: 218.251\n",
      "INFO:tensorflow:loss = 13405.816, step = 3001 (0.458 sec)\n",
      "INFO:tensorflow:global_step/sec: 250.608\n",
      "INFO:tensorflow:loss = 18779.387, step = 3101 (0.399 sec)\n",
      "INFO:tensorflow:global_step/sec: 221.173\n",
      "INFO:tensorflow:loss = 12925.067, step = 3201 (0.450 sec)\n",
      "INFO:tensorflow:global_step/sec: 209.417\n",
      "INFO:tensorflow:loss = 18359.42, step = 3301 (0.482 sec)\n",
      "INFO:tensorflow:global_step/sec: 259.466\n",
      "INFO:tensorflow:loss = 13121.827, step = 3401 (0.380 sec)\n",
      "INFO:tensorflow:global_step/sec: 278.463\n",
      "INFO:tensorflow:loss = 21882.754, step = 3501 (0.359 sec)\n",
      "INFO:tensorflow:global_step/sec: 259.754\n",
      "INFO:tensorflow:loss = 16184.877, step = 3601 (0.385 sec)\n",
      "INFO:tensorflow:global_step/sec: 270.948\n",
      "INFO:tensorflow:loss = 25997.365, step = 3701 (0.373 sec)\n",
      "INFO:tensorflow:global_step/sec: 248.343\n",
      "INFO:tensorflow:loss = 7228.125, step = 3801 (0.400 sec)\n",
      "INFO:tensorflow:global_step/sec: 215.411\n",
      "INFO:tensorflow:loss = 15163.184, step = 3901 (0.464 sec)\n",
      "INFO:tensorflow:global_step/sec: 221.73\n",
      "INFO:tensorflow:loss = 10953.432, step = 4001 (0.451 sec)\n",
      "INFO:tensorflow:global_step/sec: 226.785\n",
      "INFO:tensorflow:loss = 18147.527, step = 4101 (0.441 sec)\n",
      "INFO:tensorflow:global_step/sec: 198.729\n",
      "INFO:tensorflow:loss = 15601.486, step = 4201 (0.503 sec)\n",
      "INFO:tensorflow:global_step/sec: 226.707\n",
      "INFO:tensorflow:loss = 11211.984, step = 4301 (0.440 sec)\n",
      "INFO:tensorflow:global_step/sec: 250.134\n",
      "INFO:tensorflow:loss = 15555.526, step = 4401 (0.401 sec)\n",
      "INFO:tensorflow:global_step/sec: 229.762\n",
      "INFO:tensorflow:loss = 19533.139, step = 4501 (0.435 sec)\n",
      "INFO:tensorflow:global_step/sec: 226.046\n",
      "INFO:tensorflow:loss = 8775.738, step = 4601 (0.442 sec)\n",
      "INFO:tensorflow:global_step/sec: 233.592\n",
      "INFO:tensorflow:loss = 15393.2295, step = 4701 (0.427 sec)\n",
      "INFO:tensorflow:global_step/sec: 238.505\n",
      "INFO:tensorflow:loss = 14230.767, step = 4801 (0.419 sec)\n",
      "INFO:tensorflow:global_step/sec: 257.979\n",
      "INFO:tensorflow:loss = 28705.076, step = 4901 (0.387 sec)\n",
      "INFO:tensorflow:global_step/sec: 244.951\n",
      "INFO:tensorflow:loss = 20409.43, step = 5001 (0.408 sec)\n",
      "INFO:tensorflow:global_step/sec: 252.092\n",
      "INFO:tensorflow:loss = 6943.963, step = 5101 (0.397 sec)\n",
      "INFO:tensorflow:global_step/sec: 242.361\n",
      "INFO:tensorflow:loss = 29115.637, step = 5201 (0.414 sec)\n",
      "INFO:tensorflow:global_step/sec: 225.189\n",
      "INFO:tensorflow:loss = 10730.213, step = 5301 (0.443 sec)\n",
      "INFO:tensorflow:global_step/sec: 220.679\n",
      "INFO:tensorflow:loss = 13701.131, step = 5401 (0.458 sec)\n",
      "INFO:tensorflow:global_step/sec: 237.317\n",
      "INFO:tensorflow:loss = 43786.26, step = 5501 (0.416 sec)\n",
      "INFO:tensorflow:global_step/sec: 233.342\n",
      "INFO:tensorflow:loss = 22409.098, step = 5601 (0.429 sec)\n",
      "INFO:tensorflow:global_step/sec: 214.519\n",
      "INFO:tensorflow:loss = 12332.809, step = 5701 (0.468 sec)\n",
      "INFO:tensorflow:Saving checkpoints for 5729 into taxi_trained/model.ckpt.\n",
      "INFO:tensorflow:Loss for final step: 14776.599.\n",
      "INFO:tensorflow:Calling model_fn.\n",
      "INFO:tensorflow:Done calling model_fn.\n",
      "INFO:tensorflow:Starting evaluation at 2019-07-17-01:00:35\n",
      "INFO:tensorflow:Graph was finalized.\n",
      "INFO:tensorflow:Restoring parameters from taxi_trained/model.ckpt-5729\n",
      "INFO:tensorflow:Running local_init_op.\n",
      "INFO:tensorflow:Done running local_init_op.\n",
      "INFO:tensorflow:Finished evaluation at 2019-07-17-01:00:36\n",
      "INFO:tensorflow:Saving dict for global step 5729: average_loss = 120.66895, global_step = 5729, loss = 14582.379\n",
      "RMSE on validation dataset = 10.984942436218262\n"
     ]
    }
   ],
   "source": [
    "tf.logging.set_verbosity(tf.logging.INFO)\n",
    "shutil.rmtree(OUTDIR, ignore_errors = True) # start fresh each time\n",
    "model = tf.estimator.DNNRegressor(hidden_units = [32, 8, 2],\n",
    "      feature_columns = make_feature_cols(), model_dir = OUTDIR)\n",
    "model.train(input_fn = make_input_fn(df_train, num_epochs = 100));\n",
    "print_rmse(model, 'validation', df_valid)"
   ]
  },
  {
   "cell_type": "markdown",
   "metadata": {},
   "source": [
    "We are not beating our benchmark with either model ... what's up?  Well, we may be using TensorFlow for Machine Learning, but we are not yet using it well.  That's what the rest of this course is about!\n",
    "\n",
    "But, for the record, let's say we had to choose between the two models. We'd choose the one with the lower validation error. Finally, we'd measure the RMSE on the test data with this chosen model."
   ]
  },
  {
   "cell_type": "markdown",
   "metadata": {},
   "source": [
    "<h2> Benchmark dataset </h2>\n",
    "\n",
    "Let's do this on the benchmark dataset."
   ]
  },
  {
   "cell_type": "code",
   "execution_count": 18,
   "metadata": {},
   "outputs": [],
   "source": [
    "import datalab.bigquery as bq\n",
    "import numpy as np\n",
    "import pandas as pd\n",
    "\n",
    "def create_query(phase, EVERY_N):\n",
    "  \"\"\"\n",
    "  phase: 1 = train 2 = valid\n",
    "  \"\"\"\n",
    "  base_query = \"\"\"\n",
    "SELECT\n",
    "  (tolls_amount + fare_amount) AS fare_amount,\n",
    "  CONCAT(STRING(pickup_datetime), STRING(pickup_longitude), STRING(pickup_latitude), STRING(dropoff_latitude), STRING(dropoff_longitude)) AS key,\n",
    "  DAYOFWEEK(pickup_datetime)*1.0 AS dayofweek,\n",
    "  HOUR(pickup_datetime)*1.0 AS hourofday,\n",
    "  pickup_longitude AS pickuplon,\n",
    "  pickup_latitude AS pickuplat,\n",
    "  dropoff_longitude AS dropofflon,\n",
    "  dropoff_latitude AS dropofflat,\n",
    "  passenger_count*1.0 AS passengers,\n",
    "FROM\n",
    "  [nyc-tlc:yellow.trips]\n",
    "WHERE\n",
    "  trip_distance > 0\n",
    "  AND fare_amount >= 2.5\n",
    "  AND pickup_longitude > -78\n",
    "  AND pickup_longitude < -70\n",
    "  AND dropoff_longitude > -78\n",
    "  AND dropoff_longitude < -70\n",
    "  AND pickup_latitude > 37\n",
    "  AND pickup_latitude < 45\n",
    "  AND dropoff_latitude > 37\n",
    "  AND dropoff_latitude < 45\n",
    "  AND passenger_count > 0\n",
    "  \"\"\"\n",
    "\n",
    "  if EVERY_N == None:\n",
    "    if phase < 2:\n",
    "      # Training\n",
    "      query = \"{0} AND ABS(HASH(pickup_datetime)) % 4 < 2\".format(base_query)\n",
    "    else:\n",
    "      # Validation\n",
    "      query = \"{0} AND ABS(HASH(pickup_datetime)) % 4 == {1}\".format(base_query, phase)\n",
    "  else:\n",
    "    query = \"{0} AND ABS(HASH(pickup_datetime)) % {1} == {2}\".format(base_query, EVERY_N, phase)\n",
    "    \n",
    "  return query\n",
    "\n",
    "query = create_query(2, 100000)\n",
    "df = bq.Query(query).to_dataframe()"
   ]
  },
  {
   "cell_type": "code",
   "execution_count": 19,
   "metadata": {},
   "outputs": [
    {
     "name": "stdout",
     "output_type": "stream",
     "text": [
      "INFO:tensorflow:Calling model_fn.\n",
      "INFO:tensorflow:Done calling model_fn.\n",
      "INFO:tensorflow:Starting evaluation at 2019-07-17-01:00:48\n",
      "INFO:tensorflow:Graph was finalized.\n",
      "INFO:tensorflow:Restoring parameters from taxi_trained/model.ckpt-5729\n",
      "INFO:tensorflow:Running local_init_op.\n",
      "INFO:tensorflow:Done running local_init_op.\n",
      "INFO:tensorflow:Finished evaluation at 2019-07-17-01:00:49\n",
      "INFO:tensorflow:Saving dict for global step 5729: average_loss = 114.58056, global_step = 5729, loss = 14563.482\n",
      "RMSE on benchmark dataset = 10.704231262207031\n"
     ]
    }
   ],
   "source": [
    "print_rmse(model, 'benchmark', df)"
   ]
  },
  {
   "cell_type": "markdown",
   "metadata": {},
   "source": [
    "RMSE on benchmark dataset is <b>9.41</b> (your results will vary because of random seeds).\n",
    "\n",
    "This is not only way more than our original benchmark of 6.00, but it doesn't even beat our distance-based rule's RMSE of 8.02.\n",
    "\n",
    "Fear not -- you have learned how to write a TensorFlow model, but not to do all the things that you will have to do to your ML model performant. We will do this in the next chapters. In this chapter though, we will get our TensorFlow model ready for these improvements.\n",
    "\n",
    "In a software sense, the rest of the labs in this chapter will be about refactoring the code so that we can improve it."
   ]
  },
  {
   "cell_type": "markdown",
   "metadata": {},
   "source": [
    "Copyright 2017 Google Inc. Licensed under the Apache License, Version 2.0 (the \"License\"); you may not use this file except in compliance with the License. You may obtain a copy of the License at http://www.apache.org/licenses/LICENSE-2.0 Unless required by applicable law or agreed to in writing, software distributed under the License is distributed on an \"AS IS\" BASIS, WITHOUT WARRANTIES OR CONDITIONS OF ANY KIND, either express or implied. See the License for the specific language governing permissions and limitations under the License"
   ]
  },
  {
   "cell_type": "code",
   "execution_count": null,
   "metadata": {},
   "outputs": [],
   "source": []
  }
 ],
 "metadata": {
  "kernelspec": {
   "display_name": "Python 3",
   "language": "python",
   "name": "python3"
  },
  "language_info": {
   "codemirror_mode": {
    "name": "ipython",
    "version": 3
   },
   "file_extension": ".py",
   "mimetype": "text/x-python",
   "name": "python",
   "nbconvert_exporter": "python",
   "pygments_lexer": "ipython3",
   "version": "3.5.6"
  }
 },
 "nbformat": 4,
 "nbformat_minor": 1
}
